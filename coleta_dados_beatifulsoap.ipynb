{
  "nbformat": 4,
  "nbformat_minor": 0,
  "metadata": {
    "colab": {
      "name": "coleta_dados_beatifulsoap.ipynb",
      "provenance": [],
      "collapsed_sections": [],
      "authorship_tag": "ABX9TyNxwopCL2XQGh1z234jpYNq",
      "include_colab_link": true
    },
    "kernelspec": {
      "name": "python3",
      "display_name": "Python 3"
    },
    "language_info": {
      "name": "python"
    }
  },
  "cells": [
    {
      "cell_type": "markdown",
      "metadata": {
        "id": "view-in-github",
        "colab_type": "text"
      },
      "source": [
        "<a href=\"https://colab.research.google.com/github/hudsonhorta/awari_ds_unidade5_coleta_dados_beatifulsoap/blob/main/coleta_dados_beatifulsoap.ipynb\" target=\"_parent\"><img src=\"https://colab.research.google.com/assets/colab-badge.svg\" alt=\"Open In Colab\"/></a>"
      ]
    },
    {
      "cell_type": "code",
      "metadata": {
        "id": "8bF35hdyGbpN"
      },
      "source": [
        "# bibliotecas necessárias\n",
        "import requests\n",
        "import re\n",
        "# !pip install beatifulsoup4\n",
        "from bs4 import BeautifulSoup\n",
        "from time import sleep\n",
        "import pandas as pd\n",
        "\n",
        "# listas de apoio para Zonas e Páginas\n",
        "zonas = ['sul', 'norte', 'oeste', 'leste']\n",
        "paginas = ['', '_Desde_49', '_Desde_97']\n",
        "\n",
        "#cria lista de preços\n",
        "lista_preco=[]\n",
        "lista_zona=[]\n",
        "\n",
        "# cria uma lista para areas e quartos\n",
        "lista_area = []\n",
        "lista_quartos = []\n",
        "\n",
        "#loops das listas de apoio\n",
        "for zona in zonas:\n",
        "  for pagina in paginas:\n",
        "    #url com a zona e pagina\n",
        "    url = f'https://imoveis.mercadolivre.com.br/apartamentos/aluguel/sao-paulo/sao-paulo-{zona}/{pagina}' \n",
        "    \n",
        "    #leitura do conteudo\n",
        "    conteudo = requests.get(url).content\n",
        "    \n",
        "    #espera de 2 segundos\n",
        "    sleep(2)\n",
        "\n",
        "    #leitura do conteudo pelo BeautifilSoup\n",
        "    sopa = BeautifulSoup(conteudo)\n",
        "    \n",
        "    #sopa.find('span', {'class':'price-tag-fraction'}).text\n",
        "\n",
        "    #armazena os precos\n",
        "    result_set_precos = sopa.find_all('span', {'class':'price-tag-fraction'})\n",
        "\n",
        "    #armazena informações de area e quantidade de quartos\n",
        "    result_set_area_quarto = sopa.find_all('ul', {'class':'ui-search-card-attributes'})\n",
        "\n",
        "    # laco para adicionar os preço na lista de preços\n",
        "    for preco, area_quarto in zip(result_set_precos, result_set_area_quarto):\n",
        "      x = area_quarto.text.split()\n",
        "      lista_preco.append(float(re.sub('[^0-9]', '', preco.text)))\n",
        "      lista_area.append(x[0])\n",
        "      lista_quartos.append(int(re.sub('[^0-9]', '', x[2])))\n",
        "      lista_zona.append(zona)\n",
        "\n",
        "# cria uma lista de Id com o tamanho da lista_preco\n",
        "lista_id=[*range(len(lista_preco))]\n",
        "\n",
        "#cria dicionario para armazenar as informações\n",
        "dic= {'id': lista_id, \n",
        "      'zona': lista_zona,\n",
        "      'preco': lista_preco,\n",
        "      'area': lista_area,\n",
        "      'quartos': lista_quartos}\n",
        "\n",
        "#cria dataframe\n",
        "df = pd.DataFrame(dic)\n",
        "\n",
        "# salva o dataframe em um arquivo .csv sem a coluna indice\n",
        "df.to_csv('dados_mercado_livre.csv', index=False)\n",
        "\n",
        "\n"
      ],
      "execution_count": null,
      "outputs": []
    },
    {
      "cell_type": "code",
      "metadata": {
        "colab": {
          "base_uri": "https://localhost:8080/"
        },
        "id": "a0B_bkghHHmM",
        "outputId": "f7dcc5ab-c930-4d90-c8c8-8f4530723739"
      },
      "source": [
        ""
      ],
      "execution_count": null,
      "outputs": [
        {
          "output_type": "execute_result",
          "data": {
            "text/plain": [
              "1200"
            ]
          },
          "metadata": {
            "tags": []
          },
          "execution_count": 48
        }
      ]
    },
    {
      "cell_type": "code",
      "metadata": {
        "id": "0A-AtCg_nT1i"
      },
      "source": [
        ""
      ],
      "execution_count": null,
      "outputs": []
    }
  ]
}